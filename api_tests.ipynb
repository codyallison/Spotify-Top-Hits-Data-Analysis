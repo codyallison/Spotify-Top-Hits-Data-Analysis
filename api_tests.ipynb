{
 "cells": [
  {
   "cell_type": "code",
   "execution_count": 10,
   "id": "8247759d",
   "metadata": {},
   "outputs": [],
   "source": [
    "import requests\n",
    "from config import client_id\n",
    "from config import client_secret"
   ]
  },
  {
   "cell_type": "code",
   "execution_count": 11,
   "id": "f5235bfe",
   "metadata": {},
   "outputs": [],
   "source": [
    "def get_spotify_token():\n",
    "    auth_url = 'https://accounts.spotify.com/api/token'\n",
    "    data = {\n",
    "    'grant_type': 'client_credentials',\n",
    "    'client_id': client_id,\n",
    "    'client_secret': client_secret}\n",
    "    auth_response = requests.post(auth_url, data=data)\n",
    "    access_token = auth_response.json().get('access_token')\n",
    "    return access_token"
   ]
  },
  {
   "cell_type": "code",
   "execution_count": 12,
   "id": "5fb1d489",
   "metadata": {},
   "outputs": [
    {
     "data": {
      "text/plain": [
       "'BQBTvFdSHF8yC3dftE2XZZ_abzf_YAvWhEDYmcYSdoaXKKxRq12U4iu39_Yc90q0vf2Ahd9QHm09w1OwkRSOF-_LWl02NzJCXCRgesPfrDQPo6tZoEtg'"
      ]
     },
     "execution_count": 12,
     "metadata": {},
     "output_type": "execute_result"
    }
   ],
   "source": [
    "get_spotify_token()"
   ]
  },
  {
   "cell_type": "code",
   "execution_count": 33,
   "id": "20bca394",
   "metadata": {},
   "outputs": [],
   "source": [
    "def search_song_data(song_name):\n",
    "    spotify_base_url= \"https://api.spotify.com/v1\"\n",
    "    type='track'\n",
    "    limit='1'\n",
    "    \n",
    "    headers = {'Authorization': 'Bearer {}'.format(get_spotify_token())}\n",
    "    params = {'type':type,\n",
    "              'limit':limit}\n",
    "    \n",
    "    search_endpoint = f\"/search?query={song_name}\"\n",
    "    query_url = ''.join([spotify_base_url,search_endpoint])\n",
    "    response = requests.get(query_url,headers=headers, params=params)\n",
    "    results = response.json()\n",
    "    return results"
   ]
  },
  {
   "cell_type": "code",
   "execution_count": 49,
   "id": "72bb9dae",
   "metadata": {},
   "outputs": [
    {
     "data": {
      "text/plain": [
       "'4LRPiXqCikLlN15c3yImP7'"
      ]
     },
     "execution_count": 49,
     "metadata": {},
     "output_type": "execute_result"
    }
   ],
   "source": [
    "results = search_song_data('As It Was')\n",
    "track_id = results['tracks']['items'][0]['id']\n",
    "track_id"
   ]
  },
  {
   "cell_type": "code",
   "execution_count": 35,
   "id": "7595ec89",
   "metadata": {},
   "outputs": [],
   "source": [
    "def get_playlist_songs(playlist_id):\n",
    "    spotify_base_url= \"https://api.spotify.com/v1\"\n",
    "\n",
    "    headers = {\n",
    "    'Authorization': 'Bearer {}'.format(get_spotify_token())}\n",
    "    \n",
    "    playlists_endpoint = f\"/playlists/{playlist_id}\" \n",
    "    playlist_url = ''.join([spotify_base_url,playlists_endpoint])\n",
    "    response = requests.get(playlist_url,headers=headers)\n",
    "    playlist = response.json()\n",
    "    return playlist"
   ]
  },
  {
   "cell_type": "code",
   "execution_count": 78,
   "id": "7f3c1452",
   "metadata": {},
   "outputs": [],
   "source": [
    "playlist = get_playlist_songs(\"37i9dQZF1DX7Jl5KP2eZaS\")"
   ]
  },
  {
   "cell_type": "code",
   "execution_count": 83,
   "id": "3b04de6a",
   "metadata": {},
   "outputs": [
    {
     "data": {
      "text/plain": [
       "['Blinding Lights',\n",
       " 'Dance Monkey',\n",
       " 'The Box',\n",
       " 'Roses - Imanbek Remix',\n",
       " \"Don't Start Now\",\n",
       " 'ROCKSTAR (feat. Roddy Ricch)',\n",
       " 'Watermelon Sugar',\n",
       " 'death bed (coffee for your head)',\n",
       " 'Falling',\n",
       " 'Someone You Loved',\n",
       " 'Tusa',\n",
       " 'ROXANNE',\n",
       " 'Circles',\n",
       " 'Blueberry Faygo',\n",
       " 'Intentions (feat. Quavo)',\n",
       " 'Toosie Slide',\n",
       " 'Before You Go',\n",
       " 'Say So',\n",
       " 'Memories Remix (feat. Nipsey Hussle & YG)',\n",
       " 'Life Is Good (feat. Drake)',\n",
       " 'Savage Love (Laxed - Siren Beat)',\n",
       " 'Adore You',\n",
       " 'Breaking Me',\n",
       " 'Mood (feat. iann dior)',\n",
       " 'everything i wanted',\n",
       " 'Señorita',\n",
       " 'bad guy',\n",
       " 'WAP (feat. Megan Thee Stallion)',\n",
       " 'Sunday Best',\n",
       " 'Godzilla (feat. Juice WRLD)',\n",
       " 'Yummy',\n",
       " 'Break My Heart',\n",
       " 'Dynamite',\n",
       " 'Supalonely (feat. Gus Dapperton)',\n",
       " 'ily (i love you baby) (feat. Emilee)',\n",
       " 'Rain On Me (with Ariana Grande)',\n",
       " 'HIGHEST IN THE ROOM',\n",
       " 'Sunflower - Spider-Man: Into the Spider-Verse',\n",
       " 'Hawái',\n",
       " 'Ride It',\n",
       " 'goosebumps',\n",
       " 'RITMO (Bad Boys For Life)',\n",
       " 'THE SCOTTS',\n",
       " 'Safaera',\n",
       " 'lovely (with Khalid)',\n",
       " 'Lucid Dreams',\n",
       " 'Stuck with U (with Justin Bieber)',\n",
       " 'If the World Was Ending (feat. Julia Michaels)',\n",
       " 'Physical',\n",
       " 'SICKO MODE']"
      ]
     },
     "execution_count": 83,
     "metadata": {},
     "output_type": "execute_result"
    }
   ],
   "source": [
    "song_list = []\n",
    "for x in range(0,50):\n",
    "    song_list.append(playlist['tracks']['items'][x]['track']['name'])\n",
    "song_list"
   ]
  },
  {
   "cell_type": "code",
   "execution_count": 84,
   "id": "8544a68d",
   "metadata": {},
   "outputs": [
    {
     "data": {
      "text/plain": [
       "['0VjIjW4GlUZAMYd2vXMi3b',\n",
       " '2N8m6CYs74qQO4mjVcXO30',\n",
       " '0nbXyq5TXYPCO7pr3N8S4I',\n",
       " '2Wo6QQD1KMDWeFkkjLqwx5',\n",
       " '3PfIrDoz19wz7qK7tYeu62',\n",
       " '7ytR5pFWmSjzHJIeQkgog4',\n",
       " '6UelLqGlWMcVH1E5c4H7lY',\n",
       " '7eJMfftS33KTjuF7lTsMCx',\n",
       " '0Aqi7ArnBrGblW5T6p2jmD',\n",
       " '7qEHsqek33rTcFNT9PFqLf',\n",
       " '7k4t7uLgtOxPwTpFmtJNTY',\n",
       " '696DnlkuDOXcMAnKlTgXXK',\n",
       " '21jGcNKet2qwijlDFuPiPb',\n",
       " '22LAwLoDA5b4AaGSkg6bKW',\n",
       " '4umIPjkehX1r7uhmGvXiSV',\n",
       " '466cKvZn1j45IpxDdYZqdA',\n",
       " '2gMXnyrvIjhVBUZwvLZDMP',\n",
       " '3Dv1eDb0MEgF93GpLXlucZ',\n",
       " '3p4WMekidOIiyf8SFvfrIC',\n",
       " '1K5KBOgreBi5fkEHvg5ap3',\n",
       " '1xQ6trAsedVPCdbtDAmk0c',\n",
       " '3jjujdWJ72nww5eGnfs2E7',\n",
       " '3H7ihDc1dqLriiWXwsc2po',\n",
       " '4jPy3l0RUwlUI9T5XHBW2m',\n",
       " '3ZCTVFBt2Brf31RLEnCkWJ',\n",
       " '6v3KW9xbzN5yKLt9YKDYA2',\n",
       " '2Fxmhks0bxGSBdJ92vM42m',\n",
       " '4Oun2ylbjFKMPTiaSbbCih',\n",
       " '1Cv1YLb4q0RzL6pybtaMLo',\n",
       " '7FIWs0pqAYbP91WWM0vlTQ',\n",
       " '16wAOAZ2OkqoIDN7TpChjR',\n",
       " '017PF4Q3l4DBUiWoXk4OWT',\n",
       " '5QDLhrAOJJdNAmCTJ8xMyW',\n",
       " '3GZoWLVbmxcBys6g0DLFLf',\n",
       " '62aP9fBQKYKxi7PDXwcUAS',\n",
       " '7ju97lgwC2rKQ6wwsf9no9',\n",
       " '3eekarcy7kvN4yt5ZFzltW',\n",
       " '0RiRZpuVRbi7oqRdSMwhQY',\n",
       " '1yoMvmasuxZfqHEipJhRbp',\n",
       " '2tnVG71enUj33Ic2nFN6kZ',\n",
       " '6gBFPUFcJLzWGx4lenP6h2',\n",
       " '5NyS3oxTlos3Agl2YtZwrC',\n",
       " '39Yp9wwQiSRIDOvrVg7mbk',\n",
       " '2DEZmgHKAvm41k4J3R2E9Y',\n",
       " '0u2P5u6lvoDfwTYjAADbn4',\n",
       " '285pBltuF7vW8TeWk8hdRR',\n",
       " '4HBZA5flZLE435QTztThqH',\n",
       " '2kJwzbxV2ppxnQoYw4GLBZ',\n",
       " '3AzjcOeAmA57TIOr9zF1ZW',\n",
       " '2xLMifQCjDGFmkHkpNLD9h']"
      ]
     },
     "execution_count": 84,
     "metadata": {},
     "output_type": "execute_result"
    }
   ],
   "source": [
    "song_id_list = []\n",
    "for x in range(0,50):\n",
    "    song_id_list.append(playlist['tracks']['items'][x]['track']['id'])\n",
    "song_id_list"
   ]
  },
  {
   "cell_type": "code",
   "execution_count": 40,
   "id": "ea2ff096",
   "metadata": {},
   "outputs": [],
   "source": [
    "def get_track_features(track_id):\n",
    "    \n",
    "    track_url = f\"https://api.spotify.com/v1/audio-features/{track_id}\"\n",
    "    \n",
    "    headers = {\n",
    "    'Authorization': 'Bearer {}'.format(get_spotify_token())}\n",
    "    \n",
    "    response = requests.get(track_url, headers=headers)\n",
    "    song_features = response.json()\n",
    "    return song_features"
   ]
  },
  {
   "cell_type": "code",
   "execution_count": 41,
   "id": "1dd3f709",
   "metadata": {},
   "outputs": [
    {
     "data": {
      "text/plain": [
       "{'danceability': 0.52,\n",
       " 'energy': 0.731,\n",
       " 'key': 6,\n",
       " 'loudness': -5.338,\n",
       " 'mode': 0,\n",
       " 'speechiness': 0.0557,\n",
       " 'acousticness': 0.342,\n",
       " 'instrumentalness': 0.00101,\n",
       " 'liveness': 0.311,\n",
       " 'valence': 0.662,\n",
       " 'tempo': 173.93,\n",
       " 'type': 'audio_features',\n",
       " 'id': '4LRPiXqCikLlN15c3yImP7',\n",
       " 'uri': 'spotify:track:4LRPiXqCikLlN15c3yImP7',\n",
       " 'track_href': 'https://api.spotify.com/v1/tracks/4LRPiXqCikLlN15c3yImP7',\n",
       " 'analysis_url': 'https://api.spotify.com/v1/audio-analysis/4LRPiXqCikLlN15c3yImP7',\n",
       " 'duration_ms': 167303,\n",
       " 'time_signature': 4}"
      ]
     },
     "execution_count": 41,
     "metadata": {},
     "output_type": "execute_result"
    }
   ],
   "source": [
    "get_track_features(\"4LRPiXqCikLlN15c3yImP7\")"
   ]
  },
  {
   "cell_type": "code",
   "execution_count": null,
   "id": "f2c98b68",
   "metadata": {},
   "outputs": [],
   "source": []
  }
 ],
 "metadata": {
  "kernelspec": {
   "display_name": "PythonData",
   "language": "python",
   "name": "pythondata"
  },
  "language_info": {
   "codemirror_mode": {
    "name": "ipython",
    "version": 3
   },
   "file_extension": ".py",
   "mimetype": "text/x-python",
   "name": "python",
   "nbconvert_exporter": "python",
   "pygments_lexer": "ipython3",
   "version": "3.10.10"
  }
 },
 "nbformat": 4,
 "nbformat_minor": 5
}
