{
 "cells": [
  {
   "cell_type": "code",
   "execution_count": 1,
   "id": "2e83e940",
   "metadata": {},
   "outputs": [],
   "source": [
    "import pandas as pd\n",
    "import scipy.stats as stats\n",
    "import matplotlib.pyplot as plt"
   ]
  },
  {
   "cell_type": "code",
   "execution_count": 2,
   "id": "a5cf00ff",
   "metadata": {},
   "outputs": [],
   "source": [
    "tracks_df_20 = pd.read_csv(\"2020_2022_outputs/2020_output.csv\", index_col=[0])\n",
    "tracks_df_21 = pd.read_csv(\"2020_2022_outputs/2021_output.csv\", index_col=[0])\n",
    "tracks_df_22 = pd.read_csv(\"2020_2022_outputs/2022_output.csv\", index_col=[0])"
   ]
  },
  {
   "cell_type": "code",
   "execution_count": 3,
   "id": "49152d72",
   "metadata": {},
   "outputs": [
    {
     "data": {
      "text/html": [
       "<div>\n",
       "<style scoped>\n",
       "    .dataframe tbody tr th:only-of-type {\n",
       "        vertical-align: middle;\n",
       "    }\n",
       "\n",
       "    .dataframe tbody tr th {\n",
       "        vertical-align: top;\n",
       "    }\n",
       "\n",
       "    .dataframe thead th {\n",
       "        text-align: right;\n",
       "    }\n",
       "</style>\n",
       "<table border=\"1\" class=\"dataframe\">\n",
       "  <thead>\n",
       "    <tr style=\"text-align: right;\">\n",
       "      <th></th>\n",
       "      <th>Song Title</th>\n",
       "      <th>Artist</th>\n",
       "      <th>Song ID</th>\n",
       "      <th>popularity</th>\n",
       "      <th>danceability</th>\n",
       "      <th>energy</th>\n",
       "      <th>key</th>\n",
       "      <th>loudness</th>\n",
       "      <th>mode</th>\n",
       "      <th>speechiness</th>\n",
       "      <th>acousticness</th>\n",
       "      <th>instrumentalness</th>\n",
       "      <th>liveness</th>\n",
       "      <th>valence</th>\n",
       "      <th>bpm</th>\n",
       "      <th>duration (ms)</th>\n",
       "      <th>duration (secs)</th>\n",
       "      <th>top year</th>\n",
       "    </tr>\n",
       "  </thead>\n",
       "  <tbody>\n",
       "    <tr>\n",
       "      <th>0</th>\n",
       "      <td>Blinding Lights</td>\n",
       "      <td>The Weeknd</td>\n",
       "      <td>0VjIjW4GlUZAMYd2vXMi3b</td>\n",
       "      <td>92</td>\n",
       "      <td>0.514</td>\n",
       "      <td>0.730</td>\n",
       "      <td>1</td>\n",
       "      <td>-5.934</td>\n",
       "      <td>1</td>\n",
       "      <td>0.0598</td>\n",
       "      <td>0.00146</td>\n",
       "      <td>0.000095</td>\n",
       "      <td>0.0897</td>\n",
       "      <td>0.334</td>\n",
       "      <td>171.005</td>\n",
       "      <td>200040</td>\n",
       "      <td>200.040</td>\n",
       "      <td>2020</td>\n",
       "    </tr>\n",
       "    <tr>\n",
       "      <th>1</th>\n",
       "      <td>Dance Monkey</td>\n",
       "      <td>Tones And I</td>\n",
       "      <td>2N8m6CYs74qQO4mjVcXO30</td>\n",
       "      <td>77</td>\n",
       "      <td>0.824</td>\n",
       "      <td>0.587</td>\n",
       "      <td>6</td>\n",
       "      <td>-6.401</td>\n",
       "      <td>0</td>\n",
       "      <td>0.0937</td>\n",
       "      <td>0.69000</td>\n",
       "      <td>0.000105</td>\n",
       "      <td>0.1490</td>\n",
       "      <td>0.514</td>\n",
       "      <td>98.029</td>\n",
       "      <td>209438</td>\n",
       "      <td>209.438</td>\n",
       "      <td>2020</td>\n",
       "    </tr>\n",
       "    <tr>\n",
       "      <th>2</th>\n",
       "      <td>The Box</td>\n",
       "      <td>Roddy Ricch</td>\n",
       "      <td>0nbXyq5TXYPCO7pr3N8S4I</td>\n",
       "      <td>83</td>\n",
       "      <td>0.896</td>\n",
       "      <td>0.586</td>\n",
       "      <td>10</td>\n",
       "      <td>-6.687</td>\n",
       "      <td>0</td>\n",
       "      <td>0.0559</td>\n",
       "      <td>0.10400</td>\n",
       "      <td>0.000000</td>\n",
       "      <td>0.7900</td>\n",
       "      <td>0.642</td>\n",
       "      <td>116.971</td>\n",
       "      <td>196653</td>\n",
       "      <td>196.653</td>\n",
       "      <td>2020</td>\n",
       "    </tr>\n",
       "    <tr>\n",
       "      <th>3</th>\n",
       "      <td>Roses - Imanbek Remix</td>\n",
       "      <td>SAINt JHN</td>\n",
       "      <td>2Wo6QQD1KMDWeFkkjLqwx5</td>\n",
       "      <td>60</td>\n",
       "      <td>0.785</td>\n",
       "      <td>0.721</td>\n",
       "      <td>8</td>\n",
       "      <td>-5.457</td>\n",
       "      <td>1</td>\n",
       "      <td>0.0506</td>\n",
       "      <td>0.01490</td>\n",
       "      <td>0.004320</td>\n",
       "      <td>0.2850</td>\n",
       "      <td>0.894</td>\n",
       "      <td>121.962</td>\n",
       "      <td>176219</td>\n",
       "      <td>176.219</td>\n",
       "      <td>2020</td>\n",
       "    </tr>\n",
       "    <tr>\n",
       "      <th>4</th>\n",
       "      <td>Don't Start Now</td>\n",
       "      <td>Dua Lipa</td>\n",
       "      <td>3PfIrDoz19wz7qK7tYeu62</td>\n",
       "      <td>83</td>\n",
       "      <td>0.793</td>\n",
       "      <td>0.793</td>\n",
       "      <td>11</td>\n",
       "      <td>-4.521</td>\n",
       "      <td>0</td>\n",
       "      <td>0.0830</td>\n",
       "      <td>0.01230</td>\n",
       "      <td>0.000000</td>\n",
       "      <td>0.0951</td>\n",
       "      <td>0.679</td>\n",
       "      <td>123.950</td>\n",
       "      <td>183290</td>\n",
       "      <td>183.290</td>\n",
       "      <td>2020</td>\n",
       "    </tr>\n",
       "    <tr>\n",
       "      <th>...</th>\n",
       "      <td>...</td>\n",
       "      <td>...</td>\n",
       "      <td>...</td>\n",
       "      <td>...</td>\n",
       "      <td>...</td>\n",
       "      <td>...</td>\n",
       "      <td>...</td>\n",
       "      <td>...</td>\n",
       "      <td>...</td>\n",
       "      <td>...</td>\n",
       "      <td>...</td>\n",
       "      <td>...</td>\n",
       "      <td>...</td>\n",
       "      <td>...</td>\n",
       "      <td>...</td>\n",
       "      <td>...</td>\n",
       "      <td>...</td>\n",
       "      <td>...</td>\n",
       "    </tr>\n",
       "    <tr>\n",
       "      <th>45</th>\n",
       "      <td>Late Night Talking</td>\n",
       "      <td>Harry Styles</td>\n",
       "      <td>1qEmFfgcLObUfQm0j1W2CK</td>\n",
       "      <td>89</td>\n",
       "      <td>0.714</td>\n",
       "      <td>0.728</td>\n",
       "      <td>10</td>\n",
       "      <td>-4.595</td>\n",
       "      <td>1</td>\n",
       "      <td>0.0468</td>\n",
       "      <td>0.29800</td>\n",
       "      <td>0.000000</td>\n",
       "      <td>0.1060</td>\n",
       "      <td>0.901</td>\n",
       "      <td>114.996</td>\n",
       "      <td>177955</td>\n",
       "      <td>177.955</td>\n",
       "      <td>2022</td>\n",
       "    </tr>\n",
       "    <tr>\n",
       "      <th>46</th>\n",
       "      <td>Until I Found You</td>\n",
       "      <td>Stephen Sanchez</td>\n",
       "      <td>0T5iIrXA4p5GsubkhuBIKV</td>\n",
       "      <td>86</td>\n",
       "      <td>0.539</td>\n",
       "      <td>0.508</td>\n",
       "      <td>10</td>\n",
       "      <td>-6.050</td>\n",
       "      <td>1</td>\n",
       "      <td>0.0288</td>\n",
       "      <td>0.72700</td>\n",
       "      <td>0.000000</td>\n",
       "      <td>0.1740</td>\n",
       "      <td>0.227</td>\n",
       "      <td>101.358</td>\n",
       "      <td>177720</td>\n",
       "      <td>177.720</td>\n",
       "      <td>2022</td>\n",
       "    </tr>\n",
       "    <tr>\n",
       "      <th>47</th>\n",
       "      <td>Lo Siento BB:/ (with Bad Bunny &amp; Julieta Venegas)</td>\n",
       "      <td>Tainy</td>\n",
       "      <td>4gzsuuZypVbxs0Af1LSZyB</td>\n",
       "      <td>83</td>\n",
       "      <td>0.639</td>\n",
       "      <td>0.703</td>\n",
       "      <td>4</td>\n",
       "      <td>-6.330</td>\n",
       "      <td>0</td>\n",
       "      <td>0.0794</td>\n",
       "      <td>0.08890</td>\n",
       "      <td>0.000002</td>\n",
       "      <td>0.0865</td>\n",
       "      <td>0.138</td>\n",
       "      <td>169.888</td>\n",
       "      <td>207301</td>\n",
       "      <td>207.301</td>\n",
       "      <td>2022</td>\n",
       "    </tr>\n",
       "    <tr>\n",
       "      <th>48</th>\n",
       "      <td>Yonaguni</td>\n",
       "      <td>Bad Bunny</td>\n",
       "      <td>2JPLbjOn0wPCngEot2STUS</td>\n",
       "      <td>85</td>\n",
       "      <td>0.644</td>\n",
       "      <td>0.648</td>\n",
       "      <td>1</td>\n",
       "      <td>-4.601</td>\n",
       "      <td>1</td>\n",
       "      <td>0.1180</td>\n",
       "      <td>0.27600</td>\n",
       "      <td>0.000000</td>\n",
       "      <td>0.1350</td>\n",
       "      <td>0.440</td>\n",
       "      <td>179.951</td>\n",
       "      <td>206710</td>\n",
       "      <td>206.710</td>\n",
       "      <td>2022</td>\n",
       "    </tr>\n",
       "    <tr>\n",
       "      <th>49</th>\n",
       "      <td>Tarot</td>\n",
       "      <td>Bad Bunny</td>\n",
       "      <td>41oY4WCTj5kccfesTVFnvN</td>\n",
       "      <td>84</td>\n",
       "      <td>0.795</td>\n",
       "      <td>0.684</td>\n",
       "      <td>11</td>\n",
       "      <td>-3.971</td>\n",
       "      <td>0</td>\n",
       "      <td>0.0419</td>\n",
       "      <td>0.02250</td>\n",
       "      <td>0.000000</td>\n",
       "      <td>0.6580</td>\n",
       "      <td>0.419</td>\n",
       "      <td>114.011</td>\n",
       "      <td>237895</td>\n",
       "      <td>237.895</td>\n",
       "      <td>2022</td>\n",
       "    </tr>\n",
       "  </tbody>\n",
       "</table>\n",
       "<p>150 rows × 18 columns</p>\n",
       "</div>"
      ],
      "text/plain": [
       "                                           Song Title           Artist  \\\n",
       "0                                     Blinding Lights       The Weeknd   \n",
       "1                                        Dance Monkey      Tones And I   \n",
       "2                                             The Box      Roddy Ricch   \n",
       "3                               Roses - Imanbek Remix        SAINt JHN   \n",
       "4                                     Don't Start Now         Dua Lipa   \n",
       "..                                                ...              ...   \n",
       "45                                 Late Night Talking     Harry Styles   \n",
       "46                                  Until I Found You  Stephen Sanchez   \n",
       "47  Lo Siento BB:/ (with Bad Bunny & Julieta Venegas)            Tainy   \n",
       "48                                           Yonaguni        Bad Bunny   \n",
       "49                                              Tarot        Bad Bunny   \n",
       "\n",
       "                   Song ID  popularity  danceability  energy  key  loudness  \\\n",
       "0   0VjIjW4GlUZAMYd2vXMi3b          92         0.514   0.730    1    -5.934   \n",
       "1   2N8m6CYs74qQO4mjVcXO30          77         0.824   0.587    6    -6.401   \n",
       "2   0nbXyq5TXYPCO7pr3N8S4I          83         0.896   0.586   10    -6.687   \n",
       "3   2Wo6QQD1KMDWeFkkjLqwx5          60         0.785   0.721    8    -5.457   \n",
       "4   3PfIrDoz19wz7qK7tYeu62          83         0.793   0.793   11    -4.521   \n",
       "..                     ...         ...           ...     ...  ...       ...   \n",
       "45  1qEmFfgcLObUfQm0j1W2CK          89         0.714   0.728   10    -4.595   \n",
       "46  0T5iIrXA4p5GsubkhuBIKV          86         0.539   0.508   10    -6.050   \n",
       "47  4gzsuuZypVbxs0Af1LSZyB          83         0.639   0.703    4    -6.330   \n",
       "48  2JPLbjOn0wPCngEot2STUS          85         0.644   0.648    1    -4.601   \n",
       "49  41oY4WCTj5kccfesTVFnvN          84         0.795   0.684   11    -3.971   \n",
       "\n",
       "    mode  speechiness  acousticness  instrumentalness  liveness  valence  \\\n",
       "0      1       0.0598       0.00146          0.000095    0.0897    0.334   \n",
       "1      0       0.0937       0.69000          0.000105    0.1490    0.514   \n",
       "2      0       0.0559       0.10400          0.000000    0.7900    0.642   \n",
       "3      1       0.0506       0.01490          0.004320    0.2850    0.894   \n",
       "4      0       0.0830       0.01230          0.000000    0.0951    0.679   \n",
       "..   ...          ...           ...               ...       ...      ...   \n",
       "45     1       0.0468       0.29800          0.000000    0.1060    0.901   \n",
       "46     1       0.0288       0.72700          0.000000    0.1740    0.227   \n",
       "47     0       0.0794       0.08890          0.000002    0.0865    0.138   \n",
       "48     1       0.1180       0.27600          0.000000    0.1350    0.440   \n",
       "49     0       0.0419       0.02250          0.000000    0.6580    0.419   \n",
       "\n",
       "        bpm  duration (ms)  duration (secs)  top year  \n",
       "0   171.005         200040          200.040      2020  \n",
       "1    98.029         209438          209.438      2020  \n",
       "2   116.971         196653          196.653      2020  \n",
       "3   121.962         176219          176.219      2020  \n",
       "4   123.950         183290          183.290      2020  \n",
       "..      ...            ...              ...       ...  \n",
       "45  114.996         177955          177.955      2022  \n",
       "46  101.358         177720          177.720      2022  \n",
       "47  169.888         207301          207.301      2022  \n",
       "48  179.951         206710          206.710      2022  \n",
       "49  114.011         237895          237.895      2022  \n",
       "\n",
       "[150 rows x 18 columns]"
      ]
     },
     "execution_count": 3,
     "metadata": {},
     "output_type": "execute_result"
    }
   ],
   "source": [
    "tracks_df_20_22 = pd.concat([tracks_df_20, tracks_df_21, tracks_df_22])\n",
    "tracks_df_20_22"
   ]
  },
  {
   "cell_type": "code",
   "execution_count": 4,
   "id": "cc94c0ae",
   "metadata": {},
   "outputs": [
    {
     "data": {
      "text/plain": [
       "F_onewayResult(statistic=26.341994388238323, pvalue=1.6695357395657344e-10)"
      ]
     },
     "execution_count": 4,
     "metadata": {},
     "output_type": "execute_result"
    }
   ],
   "source": [
    "#Anova Popularity\n",
    "group0 = tracks_df_20_22[tracks_df_20_22[\"top year\"] == 2020][\"popularity\"]\n",
    "group1 = tracks_df_20_22[tracks_df_20_22[\"top year\"] == 2021][\"popularity\"]\n",
    "group2 = tracks_df_20_22[tracks_df_20_22[\"top year\"] == 2022][\"popularity\"]\n",
    "\n",
    "stats.f_oneway(group0, group1, group2)"
   ]
  },
  {
   "cell_type": "code",
   "execution_count": 5,
   "id": "4379fb2d",
   "metadata": {},
   "outputs": [
    {
     "data": {
      "text/plain": [
       "F_onewayResult(statistic=0.9575050758180597, pvalue=0.3862301379863159)"
      ]
     },
     "execution_count": 5,
     "metadata": {},
     "output_type": "execute_result"
    }
   ],
   "source": [
    "#Anova Danceability\n",
    "group0 = tracks_df_20_22[tracks_df_20_22[\"top year\"] == 2020][\"danceability\"]\n",
    "group1 = tracks_df_20_22[tracks_df_20_22[\"top year\"] == 2021][\"danceability\"]\n",
    "group2 = tracks_df_20_22[tracks_df_20_22[\"top year\"] == 2022][\"danceability\"]\n",
    "\n",
    "stats.f_oneway(group0, group1, group2)"
   ]
  },
  {
   "cell_type": "code",
   "execution_count": 6,
   "id": "9171775d",
   "metadata": {},
   "outputs": [
    {
     "data": {
      "text/plain": [
       "F_onewayResult(statistic=2.364602519998381, pvalue=0.09755267809834586)"
      ]
     },
     "execution_count": 6,
     "metadata": {},
     "output_type": "execute_result"
    }
   ],
   "source": [
    "#Anova Energy\n",
    "group0 = tracks_df_20_22[tracks_df_20_22[\"top year\"] == 2020][\"energy\"]\n",
    "group1 = tracks_df_20_22[tracks_df_20_22[\"top year\"] == 2021][\"energy\"]\n",
    "group2 = tracks_df_20_22[tracks_df_20_22[\"top year\"] == 2022][\"energy\"]\n",
    "\n",
    "stats.f_oneway(group0, group1, group2)"
   ]
  },
  {
   "cell_type": "code",
   "execution_count": 7,
   "id": "3a8d1fb4",
   "metadata": {},
   "outputs": [
    {
     "data": {
      "text/plain": [
       "F_onewayResult(statistic=0.03190496902081114, pvalue=0.9686053298937827)"
      ]
     },
     "execution_count": 7,
     "metadata": {},
     "output_type": "execute_result"
    }
   ],
   "source": [
    "#Anova BPM\n",
    "group0 = tracks_df_20_22[tracks_df_20_22[\"top year\"] == 2020][\"bpm\"]\n",
    "group1 = tracks_df_20_22[tracks_df_20_22[\"top year\"] == 2021][\"bpm\"]\n",
    "group2 = tracks_df_20_22[tracks_df_20_22[\"top year\"] == 2022][\"bpm\"]\n",
    "\n",
    "stats.f_oneway(group0, group1, group2)"
   ]
  },
  {
   "cell_type": "code",
   "execution_count": 8,
   "id": "82d94b61",
   "metadata": {},
   "outputs": [
    {
     "data": {
      "text/plain": [
       "F_onewayResult(statistic=0.9512025552827913, pvalue=0.3886406505662502)"
      ]
     },
     "execution_count": 8,
     "metadata": {},
     "output_type": "execute_result"
    }
   ],
   "source": [
    "#Anova Valence\n",
    "group0 = tracks_df_20_22[tracks_df_20_22[\"top year\"] == 2020][\"valence\"]\n",
    "group1 = tracks_df_20_22[tracks_df_20_22[\"top year\"] == 2021][\"valence\"]\n",
    "group2 = tracks_df_20_22[tracks_df_20_22[\"top year\"] == 2022][\"valence\"]\n",
    "\n",
    "stats.f_oneway(group0, group1, group2)"
   ]
  },
  {
   "cell_type": "code",
   "execution_count": 9,
   "id": "1e18d4f3",
   "metadata": {},
   "outputs": [
    {
     "data": {
      "text/plain": [
       "<matplotlib.axes._subplots.AxesSubplot at 0x1a61799b588>"
      ]
     },
     "execution_count": 9,
     "metadata": {},
     "output_type": "execute_result"
    },
    {
     "data": {
      "image/png": "[encoded data removed]",
      "text/plain": [
       "<Figure size 1440x720 with 1 Axes>"
      ]
     },
     "metadata": {
      "needs_background": "light"
     },
     "output_type": "display_data"
    },
    {
     "data": {
      "image/png": "[encoded data removed]",
      "text/plain": [
       "<Figure size 1440x720 with 1 Axes>"
      ]
     },
     "metadata": {
      "needs_background": "light"
     },
     "output_type": "display_data"
    }
   ],
   "source": [
    "#Examples of box plots (feature vs year)\n",
    "tracks_df_20_22.boxplot(\"popularity\", by=\"top year\", figsize=(20, 10))\n",
    "tracks_df_20_22.boxplot(\"danceability\", by=\"top year\", figsize=(20, 10))"
   ]
  },
  {
   "cell_type": "code",
   "execution_count": 11,
   "id": "8f9cd778",
   "metadata": {},
   "outputs": [
    {
     "data": {
      "image/png": "[encoded data removed]",
      "text/plain": [
       "<Figure size 432x288 with 1 Axes>"
      ]
     },
     "metadata": {
      "needs_background": "light"
     },
     "output_type": "display_data"
    }
   ],
   "source": [
    "#Examples of scatter plots vs popularity for each year\n",
    "df_20 = tracks_df_20_22[tracks_df_20_22[\"top year\"] == 2020][\"popularity\"]\n",
    "df_21 = tracks_df_20_22[tracks_df_20_22[\"top year\"] == 2021][\"popularity\"]\n",
    "df_22 = tracks_df_20_22[tracks_df_20_22[\"top year\"] == 2022][\"popularity\"]\n",
    "df_20_danceability = tracks_df_20_22[tracks_df_20_22[\"top year\"] == 2020][\"danceability\"]\n",
    "df_21_danceability = tracks_df_20_22[tracks_df_20_22[\"top year\"] == 2021][\"danceability\"]\n",
    "df_22_danceability = tracks_df_20_22[tracks_df_20_22[\"top year\"] == 2022][\"danceability\"]\n",
    "\n",
    "plt.scatter(df_20, df_20_danceability)\n",
    "plt.scatter(df_21, df_21_danceability)\n",
    "plt.scatter(df_22, df_22_danceability)\n",
    "plt.show()"
   ]
  },
  {
   "cell_type": "code",
   "execution_count": 12,
   "id": "65cdd990",
   "metadata": {},
   "outputs": [
    {
     "data": {
      "image/png": "[encoded data removed]",
      "text/plain": [
       "<Figure size 432x288 with 1 Axes>"
      ]
     },
     "metadata": {
      "needs_background": "light"
     },
     "output_type": "display_data"
    }
   ],
   "source": [
    "#Examples of scatter plots vs popularity for each year\n",
    "x_axis = tracks_df_20_22[tracks_df_20_22[\"top year\"] == 2020][\"popularity\"]\n",
    "df_20_energy = tracks_df_20_22[tracks_df_20_22[\"top year\"] == 2020][\"energy\"]\n",
    "df_21_energy = tracks_df_20_22[tracks_df_20_22[\"top year\"] == 2021][\"energy\"]\n",
    "df_22_energy = tracks_df_20_22[tracks_df_20_22[\"top year\"] == 2022][\"energy\"]\n",
    "\n",
    "plt.scatter(x_axis, df_20_energy)\n",
    "plt.scatter(x_axis, df_21_energy)\n",
    "plt.scatter(x_axis, df_22_energy)\n",
    "plt.show()"
   ]
  },
  {
   "cell_type": "code",
   "execution_count": 13,
   "id": "7dcba662",
   "metadata": {},
   "outputs": [
    {
     "data": {
      "image/png": "[encoded data removed]",
      "text/plain": [
       "<Figure size 432x288 with 1 Axes>"
      ]
     },
     "metadata": {
      "needs_background": "light"
     },
     "output_type": "display_data"
    },
    {
     "data": {
      "image/png": "[encoded data removed]",
      "text/plain": [
       "<Figure size 432x288 with 1 Axes>"
      ]
     },
     "metadata": {
      "needs_background": "light"
     },
     "output_type": "display_data"
    }
   ],
   "source": [
    "#Example of groupbys and then line plot\n",
    "df_20_22_groups = tracks_df_20_22.groupby(\"top year\")\n",
    "df_20_22_groups_means = df_20_22_groups.mean()\n",
    "df_20_22_groups_means\n",
    "\n",
    "x_axis = df_20_22_groups_means.index\n",
    "df_20s_popularity = df_20_22_groups_means[\"popularity\"]\n",
    "df_20s_danceability = df_20_22_groups_means[\"danceability\"]\n",
    "\n",
    "plt.plot(x_axis, df_20s_popularity)\n",
    "plt.xticks(x_axis)\n",
    "plt.ylabel(\"popularity\")\n",
    "plt.show()\n",
    "plt.plot(x_axis, df_20s_danceability)\n",
    "plt.xticks(x_axis)\n",
    "plt.ylabel('danceability')\n",
    "plt.show()"
   ]
  },
  {
   "cell_type": "code",
   "execution_count": null,
   "id": "77160be4",
   "metadata": {},
   "outputs": [],
   "source": []
  }
 ],
 "metadata": {
  "kernelspec": {
   "display_name": "PythonData",
   "language": "python",
   "name": "pythondata"
  },
  "language_info": {
   "codemirror_mode": {
    "name": "ipython",
    "version": 3
   },
   "file_extension": ".py",
   "mimetype": "text/x-python",
   "name": "python",
   "nbconvert_exporter": "python",
   "pygments_lexer": "ipython3",
   "version": "3.7.7"
  }
 },
 "nbformat": 4,
 "nbformat_minor": 5
}
